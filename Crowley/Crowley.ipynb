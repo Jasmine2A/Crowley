{
 "cells": [
  {
   "cell_type": "code",
   "execution_count": 1,
   "metadata": {},
   "outputs": [],
   "source": [
    "import re\n",
    "import json\n",
    "import pprint"
   ]
  },
  {
   "cell_type": "code",
   "execution_count": 45,
   "metadata": {},
   "outputs": [],
   "source": [
    "crowley_details = {\"order_number\": None,\n",
    "                   \"trip_number\": None,\n",
    "                   \"division\": None,\n",
    "                   \"load_rate_confirmation\": {\n",
    "                       \"dispatch_phone_number\": None,\n",
    "                       \"booking_number\": None,\n",
    "                       \"equipment_type\": None,\n",
    "                       \"weight\": None,\n",
    "                       \"pieces_pallets\": None,\n",
    "                       \"commodity\": None,\n",
    "                       \"mileage\": None\n",
    "                   },\n",
    "                   \"sent_by_contact\": {\n",
    "                       \"sent_by\": list(),\n",
    "                       \"contact_info\": list()\n",
    "                   },\n",
    "                   \"payment_processing\": {\n",
    "                       \"total\": None,\n",
    "                       \"line_haul\": None,\n",
    "                       \"status_line\": None\n",
    "                   },\n",
    "                   \"live_load\": list(),\n",
    "                   \"live_unload\": list()\n",
    "}"
   ]
  },
  {
   "cell_type": "code",
   "execution_count": 46,
   "metadata": {},
   "outputs": [],
   "source": [
    "def data_clean(text):\n",
    "    try:\n",
    "        strip_po = [i.strip() for i in text.split('\\n')]\n",
    "        remove_space = [i for i in strip_po if i not in [' ', '']]\n",
    "        remove_space_between = [i.split('  ') for i in remove_space]\n",
    "        cleaned_data = list()\n",
    "        count = 0\n",
    "        for i in remove_space_between:\n",
    "            cleaned_data.append([])\n",
    "            for j in i:\n",
    "                if j not in ['']:\n",
    "                    cleaned_data[count].append(j.strip())\n",
    "            count += 1\n",
    "        \n",
    "        return cleaned_data\n",
    "\n",
    "    except Exception as e:\n",
    "        print(\"kvt data clean exception\")\n",
    "        print(e)\n",
    "        return None"
   ]
  },
  {
   "cell_type": "code",
   "execution_count": 47,
   "metadata": {},
   "outputs": [],
   "source": [
    "f = open(\"crowley2.txt\", \"r\")\n",
    "tmp = f.read()"
   ]
  },
  {
   "cell_type": "code",
   "execution_count": 48,
   "metadata": {},
   "outputs": [
    {
     "data": {
      "text/plain": [
       "'                                                                                                                                                                                      Sent By:\\n                                                                            CROWLEY LOGISTICS, INC.                                                                                Ryan Malloy\\n                                                                              US Transportation and Distribution\\n                                                                                                                                                                       Ryan.Malloy@crowley.com\\n                                                                       9487 Regency Square Blvd, Jacksonville, FL 32225\\n                                                                                                                                                                            11/03/2020 10:46 AM\\n                                                                                Order Number 2897521                                                      Division:                CDTS\\n LOAD RATE CONFIRMATION                                                         Trip Number 4309299\\n                                  Please call 310-732-6550 for dispatch and reference order number 2897521.\\nCarrier:                      TEMP                                                                          Truck Pay Total:                      $1,934.00\\nBooking:                      808210080                                                                     Line Haul Rate:                        $1,934.00\\nVoyage:                                                                                                     Fuel Surcharge:                            $0.00\\n                                                                                                            Accessorial(s):                            $0.00\\n                                                                                 Payment Processing:\\nEquipment Type:               53AIR\\n                                                                                 PLEASE DO NOT SUBMIT INVOICES FOR PAYMENT\\nWeight:                       5000                                              Payments will be automatically processed via ERS based on Truck Pay Total (see above), standard/negotiated payment\\nPieces/Pallets:               2.00                                              terms, and receipt and processing of documentation requirements.\\n                                                                                -Once Trip Segment is closed, payment terms (e.g., Net 30 day) will start from the date required documentation is\\nCommodity:                    U-Box                                             processed.\\n                                                                                -Detention must be requested and approved at the time of the occurrence. Detention in out times must be noted on\\nMileage:                      2292                                              BOL/POD for payment to be used.\\nMin Temp:                                                                       Please send all required documents to adminlogistics@crowley.com with only the Order # - Authorization # in the\\n                                                                                 subject line (Example: 2542921 - 37922181401TMN)\\nMax Temp:                                                                       -All documentation must be received within 24-hours of delivery and be legible.\\n                                                                                -Required Documentation includes but it is not limited to POD (Proof of Delivery) and/or BOL (Bill of Lading).\\n                                                                                -Lumper Receipts must be submitted within 24 hours or the lumper amount will be deducted from Truck Pay Total.\\n                                                                                -Payment will be denied for Accessorial permits receipts not received within 30 days of charge occurrence.\\n                                                                                If you need assistance or have not received payment within our agreed terms:\\nAuth# >>>                    POD NEEDED                     <<<                 -Email RSMCommPmtStatus@crowley.com Subj: Order # - Authorization # and attach Rate Confirmation Sheet and\\n                                                                                supporting documentation.\\n                                                                                -Call Payment Status Line @ 904-726-4390\\n                                                                                -Note: Payment will not be issued for outstanding/disputed pay details not reported within 60 days of charge occurrence.\\n\\n\\n\\n\\n                                                                                              1. Live Load\\nCompany: U-HAUL MOVING & STORAGE OF OLD TOWN                                                                        References:                    CON#: 82574316, OID: CS-401541630,\\n                                                                                                                                                   TCN: U-BOX OFFICE 602-760-4927\\n                 1402 S 3RD AVE                                                                                     Earliest:                      11/03/20 09:00\\n                 YUMA,AZ/ 85364                                                                                     Latest:                        11/03/20 16:00\\n                                                                                                                    Equipment:                     UNKNOWN\\n82574316                                                                                   STOP COMMENTS\\n\\n\\n\\n                                                                                            2. Live Unload\\nCompany: U-HAUL MOVING & STORAGE AT AIRPORT                                                               References:                              CON#: 82574316, OID: CS-401541630\\n         2902 HERSHBERGER RD NW                                                                           Earliest:                                11/17/20 09:00\\n         ROANOKE,VA/ 24017                                                                                Latest:                                  11/17/20 16:00\\n                                                                                                          Equipment:                               UNKNOWN\\n                                                                                           STOP COMMENTS\\n82574316\\n\\n\\n\\nVisibility Mobile App Instructions\\n(Step 1) Driver must provide cellphone number to Crowley Dispatcher.\\n(Step 2) Upon receipt of text message, driver must select 1st link to download the app and enable tracking (one-time occurrence).\\n(Step 3) Once downloaded, close app and return to text message.\\n(Step 4) To access shipment information and start tracking, always refer to the 2nd link located on the text message received prior to arriving at first stop.\\n(Step 5) If already onsite and/or performing a drop hook, manual arrival departure times must be made through the Details icon.\\n(Step 6) When your load has been delivered, confirm all times are correct per stop, select Shipment Options, and select Complete Shipment.\\n(Step 7) If you are picking up where you have just delivered, you must hit Start prior to leaving that location.\\n(Step 8) To add equipment information such as Trailer#/Chassis#, select Notes icon in shipment screen; and manually enter using following format: ABCD,1234567 (4 letters and 7 digits with a comma\\nin between). Please Note: Trailer # must be added as an individual/separate note entry; it is not to be combined with any additional information.\\n**Contact your Crowley dispatch for additional help. If you would like to integrate or use a different tracking method please contact Capacity@crowley.com for more details.**\\n\\n\\n1) All drivers must call for dispatch and check call for the following events: en-route to shipper, arrival at shipper, loaded at shipper, arrival at consignee and departure from consignee. 2) Shipments that\\nrequire more than one day of transit require a check call from driver with location information during transit. 3) All overages, shortages, damages (collectively OSDs) and/or accessorials must be reported\\nto Crowley Logistics, Inc. at the time of the occurrence. If OSDs are not reported immediately, the Carrier can be held wholly or partly liable. If Fuel Surcharge is not separately stated, then Flat Rate shall\\nbe inclusive. 4) Unauthorized delays in delivery shall be charged to Carrier, not to exceed the actual charges assessed against Crowley Logistics, Inc. for which Carriers actions are at fault. A minimum\\ncharge of $100 shall apply to appointments missed without prior notification from Carrier. Carrier agrees with the above rate confirmation for said movement and any further charges must be called and\\ndocumented with a new rate confirmation to acknowledge acceptance of charges. (Section 5.3 of Broker/MC Agreement). 5) After 2 hours wait time by a driver, detention charges must be pre-authorized\\nby Crowley Logistics, Inc. Approval will result in payment of $25 per hour with maximum of $150 per day to the driver. 6) CARRIER IS REMINDED THAT IT IS PROHIBITED FROM SUBCONTRACTING THIS\\nLOAD TO ANY OTHER CARRIER OR BROKER WITHOUT FIRST OBTAINING CROWLEY LOGISTICS INCs EXPRESS WRITTEN PERMISSION (Section 5.6 broker/MC agreement). Crowley Logistics, Inc.\\nreserves the right to pay the delivering carrier directly and Carrier named below shall remain primarily liable as provided herein. 7) IF SHIPPERíS REQUESTED TEMPERATURE IS DIFFERENT FROM\\nTEMPERATURE PROVIDED ABOVE, PLEASE CONTACT CROWLEY PRIOR TO LOADING.\\n\\n\\n\\n\\nSignature by Carrier                   MUST SIGN AND RETURN TO                             Ryan.Malloy@crowley.com                         BEFORE LOADING.\\n\\n                                                                                                                                                                                                 Page 1 of 1\\n\\x0c'"
      ]
     },
     "execution_count": 48,
     "metadata": {},
     "output_type": "execute_result"
    }
   ],
   "source": [
    "tmp"
   ]
  },
  {
   "cell_type": "code",
   "execution_count": 49,
   "metadata": {},
   "outputs": [],
   "source": [
    "tmp2 = data_clean(tmp)"
   ]
  },
  {
   "cell_type": "code",
   "execution_count": 50,
   "metadata": {},
   "outputs": [
    {
     "name": "stdout",
     "output_type": "stream",
     "text": [
      "[['Sent By:'],\n",
      " ['CROWLEY LOGISTICS, INC.', 'Ryan Malloy'],\n",
      " ['US Transportation and Distribution'],\n",
      " ['Ryan.Malloy@crowley.com'],\n",
      " ['9487 Regency Square Blvd, Jacksonville, FL 32225'],\n",
      " ['11/03/2020 10:46 AM'],\n",
      " ['Order Number 2897521', 'Division:', 'CDTS'],\n",
      " ['LOAD RATE CONFIRMATION', 'Trip Number 4309299'],\n",
      " ['Please call 310-732-6550 for dispatch and reference order number 2897521.'],\n",
      " ['Carrier:', 'TEMP', 'Truck Pay Total:', '$1,934.00'],\n",
      " ['Booking:', '808210080', 'Line Haul Rate:', '$1,934.00'],\n",
      " ['Voyage:', 'Fuel Surcharge:', '$0.00'],\n",
      " ['Accessorial(s):', '$0.00'],\n",
      " ['Payment Processing:'],\n",
      " ['Equipment Type:', '53AIR'],\n",
      " ['PLEASE DO NOT SUBMIT INVOICES FOR PAYMENT'],\n",
      " ['Weight:',\n",
      "  '5000',\n",
      "  'Payments will be automatically processed via ERS based on Truck Pay Total '\n",
      "  '(see above), standard/negotiated payment'],\n",
      " ['Pieces/Pallets:',\n",
      "  '2.00',\n",
      "  'terms, and receipt and processing of documentation requirements.'],\n",
      " ['-Once Trip Segment is closed, payment terms (e.g., Net 30 day) will start '\n",
      "  'from the date required documentation is'],\n",
      " ['Commodity:', 'U-Box', 'processed.'],\n",
      " ['-Detention must be requested and approved at the time of the occurrence. '\n",
      "  'Detention in out times must be noted on'],\n",
      " ['Mileage:', '2292', 'BOL/POD for payment to be used.'],\n",
      " ['Min Temp:',\n",
      "  'Please send all required documents to adminlogistics@crowley.com with only '\n",
      "  'the Order # - Authorization # in the'],\n",
      " ['subject line (Example: 2542921 - 37922181401TMN)'],\n",
      " ['Max Temp:',\n",
      "  '-All documentation must be received within 24-hours of delivery and be '\n",
      "  'legible.'],\n",
      " ['-Required Documentation includes but it is not limited to POD (Proof of '\n",
      "  'Delivery) and/or BOL (Bill of Lading).'],\n",
      " ['-Lumper Receipts must be submitted within 24 hours or the lumper amount '\n",
      "  'will be deducted from Truck Pay Total.'],\n",
      " ['-Payment will be denied for Accessorial permits receipts not received '\n",
      "  'within 30 days of charge occurrence.'],\n",
      " ['If you need assistance or have not received payment within our agreed '\n",
      "  'terms:'],\n",
      " ['Auth# >>>',\n",
      "  'POD NEEDED',\n",
      "  '<<<',\n",
      "  '-Email RSMCommPmtStatus@crowley.com Subj: Order # - Authorization # and '\n",
      "  'attach Rate Confirmation Sheet and'],\n",
      " ['supporting documentation.'],\n",
      " ['-Call Payment Status Line @ 904-726-4390'],\n",
      " ['-Note: Payment will not be issued for outstanding/disputed pay details not '\n",
      "  'reported within 60 days of charge occurrence.'],\n",
      " ['1. Live Load'],\n",
      " ['Company: U-HAUL MOVING & STORAGE OF OLD TOWN',\n",
      "  'References:',\n",
      "  'CON#: 82574316, OID: CS-401541630,'],\n",
      " ['TCN: U-BOX OFFICE 602-760-4927'],\n",
      " ['1402 S 3RD AVE', 'Earliest:', '11/03/20 09:00'],\n",
      " ['YUMA,AZ/ 85364', 'Latest:', '11/03/20 16:00'],\n",
      " ['Equipment:', 'UNKNOWN'],\n",
      " ['82574316', 'STOP COMMENTS'],\n",
      " ['2. Live Unload'],\n",
      " ['Company: U-HAUL MOVING & STORAGE AT AIRPORT',\n",
      "  'References:',\n",
      "  'CON#: 82574316, OID: CS-401541630'],\n",
      " ['2902 HERSHBERGER RD NW', 'Earliest:', '11/17/20 09:00'],\n",
      " ['ROANOKE,VA/ 24017', 'Latest:', '11/17/20 16:00'],\n",
      " ['Equipment:', 'UNKNOWN'],\n",
      " ['STOP COMMENTS'],\n",
      " ['82574316'],\n",
      " ['Visibility Mobile App Instructions'],\n",
      " ['(Step 1) Driver must provide cellphone number to Crowley Dispatcher.'],\n",
      " ['(Step 2) Upon receipt of text message, driver must select 1st link to '\n",
      "  'download the app and enable tracking (one-time occurrence).'],\n",
      " ['(Step 3) Once downloaded, close app and return to text message.'],\n",
      " ['(Step 4) To access shipment information and start tracking, always refer to '\n",
      "  'the 2nd link located on the text message received prior to arriving at '\n",
      "  'first stop.'],\n",
      " ['(Step 5) If already onsite and/or performing a drop hook, manual arrival '\n",
      "  'departure times must be made through the Details icon.'],\n",
      " ['(Step 6) When your load has been delivered, confirm all times are correct '\n",
      "  'per stop, select Shipment Options, and select Complete Shipment.'],\n",
      " ['(Step 7) If you are picking up where you have just delivered, you must hit '\n",
      "  'Start prior to leaving that location.'],\n",
      " ['(Step 8) To add equipment information such as Trailer#/Chassis#, select '\n",
      "  'Notes icon in shipment screen; and manually enter using following format: '\n",
      "  'ABCD,1234567 (4 letters and 7 digits with a comma'],\n",
      " ['in between). Please Note: Trailer # must be added as an individual/separate '\n",
      "  'note entry; it is not to be combined with any additional information.'],\n",
      " ['**Contact your Crowley dispatch for additional help. If you would like to '\n",
      "  'integrate or use a different tracking method please contact '\n",
      "  'Capacity@crowley.com for more details.**'],\n",
      " ['1) All drivers must call for dispatch and check call for the following '\n",
      "  'events: en-route to shipper, arrival at shipper, loaded at shipper, arrival '\n",
      "  'at consignee and departure from consignee. 2) Shipments that'],\n",
      " ['require more than one day of transit require a check call from driver with '\n",
      "  'location information during transit. 3) All overages, shortages, damages '\n",
      "  '(collectively OSDs) and/or accessorials must be reported'],\n",
      " ['to Crowley Logistics, Inc. at the time of the occurrence. If OSDs are not '\n",
      "  'reported immediately, the Carrier can be held wholly or partly liable. If '\n",
      "  'Fuel Surcharge is not separately stated, then Flat Rate shall'],\n",
      " ['be inclusive. 4) Unauthorized delays in delivery shall be charged to '\n",
      "  'Carrier, not to exceed the actual charges assessed against Crowley '\n",
      "  'Logistics, Inc. for which Carriers actions are at fault. A minimum'],\n",
      " ['charge of $100 shall apply to appointments missed without prior '\n",
      "  'notification from Carrier. Carrier agrees with the above rate confirmation '\n",
      "  'for said movement and any further charges must be called and'],\n",
      " ['documented with a new rate confirmation to acknowledge acceptance of '\n",
      "  'charges. (Section 5.3 of Broker/MC Agreement). 5) After 2 hours wait time '\n",
      "  'by a driver, detention charges must be pre-authorized'],\n",
      " ['by Crowley Logistics, Inc. Approval will result in payment of $25 per hour '\n",
      "  'with maximum of $150 per day to the driver. 6) CARRIER IS REMINDED THAT IT '\n",
      "  'IS PROHIBITED FROM SUBCONTRACTING THIS'],\n",
      " ['LOAD TO ANY OTHER CARRIER OR BROKER WITHOUT FIRST OBTAINING CROWLEY '\n",
      "  'LOGISTICS INCs EXPRESS WRITTEN PERMISSION (Section 5.6 broker/MC '\n",
      "  'agreement). Crowley Logistics, Inc.'],\n",
      " ['reserves the right to pay the delivering carrier directly and Carrier named '\n",
      "  'below shall remain primarily liable as provided herein. 7) IF SHIPPERíS '\n",
      "  'REQUESTED TEMPERATURE IS DIFFERENT FROM'],\n",
      " ['TEMPERATURE PROVIDED ABOVE, PLEASE CONTACT CROWLEY PRIOR TO LOADING.'],\n",
      " ['Signature by Carrier',\n",
      "  'MUST SIGN AND RETURN TO',\n",
      "  'Ryan.Malloy@crowley.com',\n",
      "  'BEFORE LOADING.'],\n",
      " ['Page 1 of 1']]\n"
     ]
    }
   ],
   "source": [
    "pprint.pprint(tmp2)"
   ]
  },
  {
   "cell_type": "code",
   "execution_count": 51,
   "metadata": {},
   "outputs": [
    {
     "name": "stdout",
     "output_type": "stream",
     "text": [
      "{'division': None,\n",
      " 'live_load': [],\n",
      " 'live_unload': [],\n",
      " 'load_rate_confirmation': {'booking_number': None,\n",
      "                            'commodity': None,\n",
      "                            'dispatch_phone_number': None,\n",
      "                            'equipment_type': None,\n",
      "                            'mileage': None,\n",
      "                            'pieces_pallets': None,\n",
      "                            'weight': None},\n",
      " 'order_number': None,\n",
      " 'payment_processing': {'line_haul': None, 'status_line': None, 'total': None},\n",
      " 'sent_by_contact': {'contact_info': [], 'sent_by': []},\n",
      " 'trip_number': None}\n"
     ]
    }
   ],
   "source": [
    "pprint.pprint(crowley_details)"
   ]
  },
  {
   "cell_type": "code",
   "execution_count": 52,
   "metadata": {},
   "outputs": [],
   "source": [
    "regex_dv = r'^[A-Z]{4}'\n",
    "compiled_re = re.compile(regex_dv)"
   ]
  },
  {
   "cell_type": "code",
   "execution_count": 53,
   "metadata": {},
   "outputs": [
    {
     "data": {
      "text/plain": [
       "['ABCD']"
      ]
     },
     "execution_count": 53,
     "metadata": {},
     "output_type": "execute_result"
    }
   ],
   "source": [
    "dv_good_1 = 'ABCD'\n",
    "compiled_re.findall(dv_good_1)"
   ]
  },
  {
   "cell_type": "code",
   "execution_count": 54,
   "metadata": {},
   "outputs": [
    {
     "data": {
      "text/plain": [
       "[]"
      ]
     },
     "execution_count": 54,
     "metadata": {},
     "output_type": "execute_result"
    }
   ],
   "source": [
    "dv_bad_1 = 'abcd'\n",
    "compiled_re.findall(dv_bad_1)"
   ]
  },
  {
   "cell_type": "code",
   "execution_count": 55,
   "metadata": {},
   "outputs": [
    {
     "data": {
      "text/plain": [
       "['ABCD']"
      ]
     },
     "execution_count": 55,
     "metadata": {},
     "output_type": "execute_result"
    }
   ],
   "source": [
    "dv_bad_2 = 'ABCDEFSDS'\n",
    "compiled_re.findall(dv_bad_2)"
   ]
  },
  {
   "cell_type": "code",
   "execution_count": 56,
   "metadata": {},
   "outputs": [],
   "source": [
    "regex_on = r'\\d{7}'\n",
    "compiled_re = re.compile(regex_on)"
   ]
  },
  {
   "cell_type": "code",
   "execution_count": 57,
   "metadata": {},
   "outputs": [
    {
     "data": {
      "text/plain": [
       "['1234567']"
      ]
     },
     "execution_count": 57,
     "metadata": {},
     "output_type": "execute_result"
    }
   ],
   "source": [
    "on_good_1 = '1234567'\n",
    "compiled_re.findall(on_good_1)"
   ]
  },
  {
   "cell_type": "code",
   "execution_count": 58,
   "metadata": {},
   "outputs": [
    {
     "data": {
      "text/plain": [
       "[]"
      ]
     },
     "execution_count": 58,
     "metadata": {},
     "output_type": "execute_result"
    }
   ],
   "source": [
    "on_bad_1 = '123'\n",
    "compiled_re.findall(on_bad_1)"
   ]
  },
  {
   "cell_type": "code",
   "execution_count": null,
   "metadata": {},
   "outputs": [],
   "source": []
  },
  {
   "cell_type": "code",
   "execution_count": 59,
   "metadata": {},
   "outputs": [],
   "source": [
    "def get_lines_between(origtmp, str1, str2):\n",
    "    start_index = 0\n",
    "    stop_index = 0\n",
    "    for ele_nos, ele in enumerate(origtmp):\n",
    "        for stchar in ele:\n",
    "            if str1 in stchar.lower():\n",
    "                start_index = ele_nos\n",
    "\n",
    "            if str2 in stchar.lower():\n",
    "                stop_index = ele_nos\n",
    "                return origtmp[start_index:stop_index+1]\n",
    "    return([])"
   ]
  },
  {
   "cell_type": "code",
   "execution_count": 60,
   "metadata": {},
   "outputs": [
    {
     "data": {
      "text/plain": [
       "[['Order Number 2897521', 'Division:', 'CDTS']]"
      ]
     },
     "execution_count": 60,
     "metadata": {},
     "output_type": "execute_result"
    }
   ],
   "source": [
    "get_lines_between(tmp2, \"order number\", \"division\")"
   ]
  },
  {
   "cell_type": "code",
   "execution_count": 61,
   "metadata": {},
   "outputs": [],
   "source": [
    "def get_order_number(origtmp):\n",
    "    '''\n",
    "    Derive Order Number\n",
    "    '''\n",
    "    \n",
    "    #Get The Order Code\n",
    "    regex_on = r'\\d{7}'\n",
    "    compiled_re = re.compile(regex_on)\n",
    "    \n",
    "    #Get the relevant lines for search\n",
    "    get_lines = get_lines_between(tmp2, \"order number\", \"division\")\n",
    "    \n",
    "    #Loop through the subset of lines and apply regex\n",
    "    for line in get_lines:\n",
    "        for wordstr in line:\n",
    "            on = compiled_re.findall(wordstr)\n",
    "            if len(on) > 0:\n",
    "                return(on[0])\n",
    "    return('')"
   ]
  },
  {
   "cell_type": "code",
   "execution_count": 62,
   "metadata": {},
   "outputs": [
    {
     "data": {
      "text/plain": [
       "'2897521'"
      ]
     },
     "execution_count": 62,
     "metadata": {},
     "output_type": "execute_result"
    }
   ],
   "source": [
    "get_order_number(tmp2)"
   ]
  },
  {
   "cell_type": "code",
   "execution_count": 63,
   "metadata": {},
   "outputs": [],
   "source": [
    "def get_division(origtmp):\n",
    "    '''\n",
    "    Derive Division\n",
    "    '''\n",
    "    \n",
    "    #Get The Division Code or whatever\n",
    "    regex_dv = r'^[A-Z]{4}'\n",
    "    compiled_re = re.compile(regex_dv)\n",
    "    \n",
    "    #Get the relevant lines for search\n",
    "    get_lines = get_lines_between(tmp2, \"order number\", \"division\")\n",
    "    \n",
    "    #Loop through the subset of lines and apply regex\n",
    "    for line in get_lines:\n",
    "        for wordstr in line:\n",
    "            dv = compiled_re.findall(wordstr)\n",
    "            if len(dv) > 0:\n",
    "                return(dv[0])\n",
    "    return('')"
   ]
  },
  {
   "cell_type": "code",
   "execution_count": 64,
   "metadata": {},
   "outputs": [
    {
     "data": {
      "text/plain": [
       "'CDTS'"
      ]
     },
     "execution_count": 64,
     "metadata": {},
     "output_type": "execute_result"
    }
   ],
   "source": [
    "get_division(tmp2)"
   ]
  },
  {
   "cell_type": "code",
   "execution_count": 65,
   "metadata": {},
   "outputs": [
    {
     "name": "stdout",
     "output_type": "stream",
     "text": [
      "\n",
      "    Derive Division\n",
      "    \n"
     ]
    }
   ],
   "source": [
    "print(get_division.__doc__)"
   ]
  },
  {
   "cell_type": "code",
   "execution_count": 66,
   "metadata": {},
   "outputs": [
    {
     "name": "stdout",
     "output_type": "stream",
     "text": [
      "2897521\n"
     ]
    }
   ],
   "source": [
    "order_number_only = get_order_number(tmp2)\n",
    "print(order_number_only)"
   ]
  },
  {
   "cell_type": "code",
   "execution_count": 67,
   "metadata": {},
   "outputs": [
    {
     "name": "stdout",
     "output_type": "stream",
     "text": [
      "CDTS\n"
     ]
    }
   ],
   "source": [
    "division_only = get_division(tmp2)\n",
    "print(division_only)"
   ]
  },
  {
   "cell_type": "code",
   "execution_count": 68,
   "metadata": {},
   "outputs": [],
   "source": [
    "def get_order_division(origtmp):\n",
    "    order_number_only = get_order_number(tmp2)\n",
    "    division_only = get_division(tmp2)\n",
    "    \n",
    "    crowley_details[\"order_number\"] = order_number_only\n",
    "    crowley_details[\"division\"] = division_only"
   ]
  },
  {
   "cell_type": "code",
   "execution_count": 69,
   "metadata": {},
   "outputs": [],
   "source": [
    "get_order_division(tmp2)"
   ]
  },
  {
   "cell_type": "code",
   "execution_count": 70,
   "metadata": {},
   "outputs": [
    {
     "name": "stdout",
     "output_type": "stream",
     "text": [
      "{'division': 'CDTS',\n",
      " 'live_load': [],\n",
      " 'live_unload': [],\n",
      " 'load_rate_confirmation': {'booking_number': None,\n",
      "                            'commodity': None,\n",
      "                            'dispatch_phone_number': None,\n",
      "                            'equipment_type': None,\n",
      "                            'mileage': None,\n",
      "                            'pieces_pallets': None,\n",
      "                            'weight': None},\n",
      " 'order_number': '2897521',\n",
      " 'payment_processing': {'line_haul': None, 'status_line': None, 'total': None},\n",
      " 'sent_by_contact': {'contact_info': [], 'sent_by': []},\n",
      " 'trip_number': None}\n"
     ]
    }
   ],
   "source": [
    "pprint.pprint(crowley_details)"
   ]
  },
  {
   "cell_type": "code",
   "execution_count": 71,
   "metadata": {},
   "outputs": [
    {
     "data": {
      "text/plain": [
       "[['LOAD RATE CONFIRMATION', 'Trip Number 4309299'],\n",
       " ['Please call 310-732-6550 for dispatch and reference order number 2897521.'],\n",
       " ['Carrier:', 'TEMP', 'Truck Pay Total:', '$1,934.00'],\n",
       " ['Booking:', '808210080', 'Line Haul Rate:', '$1,934.00'],\n",
       " ['Voyage:', 'Fuel Surcharge:', '$0.00'],\n",
       " ['Accessorial(s):', '$0.00'],\n",
       " ['Payment Processing:'],\n",
       " ['Equipment Type:', '53AIR'],\n",
       " ['PLEASE DO NOT SUBMIT INVOICES FOR PAYMENT'],\n",
       " ['Weight:',\n",
       "  '5000',\n",
       "  'Payments will be automatically processed via ERS based on Truck Pay Total (see above), standard/negotiated payment'],\n",
       " ['Pieces/Pallets:',\n",
       "  '2.00',\n",
       "  'terms, and receipt and processing of documentation requirements.'],\n",
       " ['-Once Trip Segment is closed, payment terms (e.g., Net 30 day) will start from the date required documentation is'],\n",
       " ['Commodity:', 'U-Box', 'processed.'],\n",
       " ['-Detention must be requested and approved at the time of the occurrence. Detention in out times must be noted on'],\n",
       " ['Mileage:', '2292', 'BOL/POD for payment to be used.']]"
      ]
     },
     "execution_count": 71,
     "metadata": {},
     "output_type": "execute_result"
    }
   ],
   "source": [
    "get_lines_between(tmp2, \"load rate confirmation\", \"mileage\")"
   ]
  },
  {
   "cell_type": "code",
   "execution_count": 72,
   "metadata": {},
   "outputs": [],
   "source": [
    "regex_tn = r'^\\d{7}$'\n",
    "compiled_re = re.compile(regex_tn)"
   ]
  },
  {
   "cell_type": "code",
   "execution_count": 73,
   "metadata": {},
   "outputs": [
    {
     "data": {
      "text/plain": [
       "['1234567']"
      ]
     },
     "execution_count": 73,
     "metadata": {},
     "output_type": "execute_result"
    }
   ],
   "source": [
    "tn_good_1 = '1234567'\n",
    "compiled_re.findall(tn_good_1)"
   ]
  },
  {
   "cell_type": "code",
   "execution_count": 74,
   "metadata": {},
   "outputs": [
    {
     "data": {
      "text/plain": [
       "[]"
      ]
     },
     "execution_count": 74,
     "metadata": {},
     "output_type": "execute_result"
    }
   ],
   "source": [
    "tn_bad_1 = '234'\n",
    "compiled_re.findall(tn_bad_1)"
   ]
  },
  {
   "cell_type": "code",
   "execution_count": 75,
   "metadata": {},
   "outputs": [
    {
     "data": {
      "text/plain": [
       "[['LOAD RATE CONFIRMATION', 'Trip Number 4309299'],\n",
       " ['Please call 310-732-6550 for dispatch and reference order number 2897521.'],\n",
       " ['Carrier:', 'TEMP', 'Truck Pay Total:', '$1,934.00'],\n",
       " ['Booking:', '808210080', 'Line Haul Rate:', '$1,934.00']]"
      ]
     },
     "execution_count": 75,
     "metadata": {},
     "output_type": "execute_result"
    }
   ],
   "source": [
    "get_lines_between(tmp2, \"load rate confirmation\", \"booking\")"
   ]
  },
  {
   "cell_type": "code",
   "execution_count": 76,
   "metadata": {},
   "outputs": [],
   "source": [
    "def get_trip_number(origtmp):\n",
    "    '''\n",
    "    Derive Trip Number\n",
    "    '''\n",
    "    \n",
    "    #Get The Trip Number\n",
    "    regex_tn = r'\\d{7}'\n",
    "    compiled_re = re.compile(regex_tn)\n",
    "    \n",
    "    #Get the relevant lines for search\n",
    "    get_lines = get_lines_between(tmp2, \"load rate confirmation\", \"booking\")\n",
    "    \n",
    "    #Loop through the subset of lines and apply regex\n",
    "    for line in get_lines:\n",
    "        for wordstr in line:\n",
    "            tn = compiled_re.findall(wordstr)\n",
    "            if len(tn) > 0:\n",
    "                return(tn[0])\n",
    "    return('')"
   ]
  },
  {
   "cell_type": "code",
   "execution_count": 77,
   "metadata": {},
   "outputs": [
    {
     "data": {
      "text/plain": [
       "'4309299'"
      ]
     },
     "execution_count": 77,
     "metadata": {},
     "output_type": "execute_result"
    }
   ],
   "source": [
    "get_trip_number(tmp2)"
   ]
  },
  {
   "cell_type": "code",
   "execution_count": 78,
   "metadata": {},
   "outputs": [],
   "source": [
    "regex_ca = r'^[A-Z]{4}$'\n",
    "compiled_re = re.compile(regex_ca)"
   ]
  },
  {
   "cell_type": "code",
   "execution_count": 79,
   "metadata": {},
   "outputs": [
    {
     "data": {
      "text/plain": [
       "['TEPO']"
      ]
     },
     "execution_count": 79,
     "metadata": {},
     "output_type": "execute_result"
    }
   ],
   "source": [
    "ca_good_1 = 'TEPO'\n",
    "compiled_re.findall(ca_good_1)"
   ]
  },
  {
   "cell_type": "code",
   "execution_count": 80,
   "metadata": {},
   "outputs": [
    {
     "data": {
      "text/plain": [
       "[]"
      ]
     },
     "execution_count": 80,
     "metadata": {},
     "output_type": "execute_result"
    }
   ],
   "source": [
    "ca_bad_1 = 'TEPGO'\n",
    "compiled_re.findall(ca_bad_1)"
   ]
  },
  {
   "cell_type": "code",
   "execution_count": 81,
   "metadata": {},
   "outputs": [],
   "source": [
    "def get_carrier_info(origtmp):\n",
    "    '''\n",
    "    Derive Carrier Info\n",
    "    '''\n",
    "    \n",
    "    #Get The Division Code or whatever\n",
    "    regex_ca = r'^[A-Z]{4}$'\n",
    "    compiled_re = re.compile(regex_ca)\n",
    "    \n",
    "    #Get the relevant lines for search\n",
    "    get_lines = get_lines_between(tmp2, \"load rate confirmation\", \"booking\")\n",
    "    \n",
    "    #Loop through the subset of lines and apply regex\n",
    "    for line in get_lines:\n",
    "        for wordstr in line:\n",
    "            ca = compiled_re.findall(wordstr)\n",
    "            if len(ca) > 0:\n",
    "                return(ca[0])\n",
    "    return('')"
   ]
  },
  {
   "cell_type": "code",
   "execution_count": 82,
   "metadata": {},
   "outputs": [
    {
     "data": {
      "text/plain": [
       "'TEMP'"
      ]
     },
     "execution_count": 82,
     "metadata": {},
     "output_type": "execute_result"
    }
   ],
   "source": [
    "get_carrier_info(tmp2)"
   ]
  },
  {
   "cell_type": "code",
   "execution_count": 83,
   "metadata": {},
   "outputs": [],
   "source": [
    "def get_trip_carrier(origtmp):\n",
    "    trip_number_only = get_trip_number(tmp2)\n",
    "    carrier_type = get_carrier_info(tmp2)\n",
    "    \n",
    "    crowley_details[\"trip_number\"] = trip_number_only\n",
    "    crowley_details[\"carrier\"] = carrier_type"
   ]
  },
  {
   "cell_type": "code",
   "execution_count": 84,
   "metadata": {},
   "outputs": [],
   "source": [
    "get_trip_carrier(tmp2)"
   ]
  },
  {
   "cell_type": "code",
   "execution_count": 85,
   "metadata": {},
   "outputs": [
    {
     "name": "stdout",
     "output_type": "stream",
     "text": [
      "{'carrier': 'TEMP',\n",
      " 'division': 'CDTS',\n",
      " 'live_load': [],\n",
      " 'live_unload': [],\n",
      " 'load_rate_confirmation': {'booking_number': None,\n",
      "                            'commodity': None,\n",
      "                            'dispatch_phone_number': None,\n",
      "                            'equipment_type': None,\n",
      "                            'mileage': None,\n",
      "                            'pieces_pallets': None,\n",
      "                            'weight': None},\n",
      " 'order_number': '2897521',\n",
      " 'payment_processing': {'line_haul': None, 'status_line': None, 'total': None},\n",
      " 'sent_by_contact': {'contact_info': [], 'sent_by': []},\n",
      " 'trip_number': '4309299'}\n"
     ]
    }
   ],
   "source": [
    "pprint.pprint(crowley_details)"
   ]
  },
  {
   "cell_type": "code",
   "execution_count": 87,
   "metadata": {},
   "outputs": [
    {
     "data": {
      "text/plain": [
       "[['Booking:', '808210080', 'Line Haul Rate:', '$1,934.00'],\n",
       " ['Voyage:', 'Fuel Surcharge:', '$0.00'],\n",
       " ['Accessorial(s):', '$0.00'],\n",
       " ['Payment Processing:'],\n",
       " ['Equipment Type:', '53AIR'],\n",
       " ['PLEASE DO NOT SUBMIT INVOICES FOR PAYMENT'],\n",
       " ['Weight:',\n",
       "  '5000',\n",
       "  'Payments will be automatically processed via ERS based on Truck Pay Total (see above), standard/negotiated payment']]"
      ]
     },
     "execution_count": 87,
     "metadata": {},
     "output_type": "execute_result"
    }
   ],
   "source": [
    "get_lines_between(tmp2, \"booking\", \"weight\")"
   ]
  },
  {
   "cell_type": "code",
   "execution_count": 92,
   "metadata": {},
   "outputs": [],
   "source": [
    "regex_bn = r'^\\d{9}$'\n",
    "compiled_re = re.compile(regex_bn)"
   ]
  },
  {
   "cell_type": "code",
   "execution_count": 93,
   "metadata": {},
   "outputs": [
    {
     "data": {
      "text/plain": [
       "['123456789']"
      ]
     },
     "execution_count": 93,
     "metadata": {},
     "output_type": "execute_result"
    }
   ],
   "source": [
    "bn_good_1 = '123456789'\n",
    "compiled_re.findall(bn_good_1)"
   ]
  },
  {
   "cell_type": "code",
   "execution_count": 94,
   "metadata": {},
   "outputs": [
    {
     "data": {
      "text/plain": [
       "[]"
      ]
     },
     "execution_count": 94,
     "metadata": {},
     "output_type": "execute_result"
    }
   ],
   "source": [
    "bn_bad_1 = '1234567232389'\n",
    "compiled_re.findall(bn_bad_1)"
   ]
  },
  {
   "cell_type": "code",
   "execution_count": 95,
   "metadata": {},
   "outputs": [
    {
     "data": {
      "text/plain": [
       "[]"
      ]
     },
     "execution_count": 95,
     "metadata": {},
     "output_type": "execute_result"
    }
   ],
   "source": [
    "bn_bad_2 = '123'\n",
    "compiled_re.findall(bn_bad_2)"
   ]
  },
  {
   "cell_type": "code",
   "execution_count": 96,
   "metadata": {},
   "outputs": [],
   "source": [
    "regex_mi = r'^\\d{4}$'\n",
    "compiled_re = re.compile(regex_mi)"
   ]
  },
  {
   "cell_type": "code",
   "execution_count": 97,
   "metadata": {},
   "outputs": [
    {
     "data": {
      "text/plain": [
       "['1234']"
      ]
     },
     "execution_count": 97,
     "metadata": {},
     "output_type": "execute_result"
    }
   ],
   "source": [
    "mi_good_1 = '1234'\n",
    "compiled_re.findall(mi_good_1)"
   ]
  },
  {
   "cell_type": "code",
   "execution_count": 98,
   "metadata": {},
   "outputs": [
    {
     "data": {
      "text/plain": [
       "[]"
      ]
     },
     "execution_count": 98,
     "metadata": {},
     "output_type": "execute_result"
    }
   ],
   "source": [
    "mi_bad_1 = '123423232'\n",
    "compiled_re.findall(mi_bad_1)"
   ]
  },
  {
   "cell_type": "code",
   "execution_count": 99,
   "metadata": {},
   "outputs": [
    {
     "data": {
      "text/plain": [
       "[]"
      ]
     },
     "execution_count": 99,
     "metadata": {},
     "output_type": "execute_result"
    }
   ],
   "source": [
    "mi_bad_2 = '12'\n",
    "compiled_re.findall(mi_bad_2)"
   ]
  },
  {
   "cell_type": "code",
   "execution_count": 108,
   "metadata": {},
   "outputs": [],
   "source": [
    "regex_dispatch_phone = r'(\\d{3}(\\-|\\.)\\d{3}(\\-|\\.)\\d{4})'\n",
    "compiled_re = re.compile(regex_dispatch_phone)"
   ]
  },
  {
   "cell_type": "code",
   "execution_count": 109,
   "metadata": {},
   "outputs": [
    {
     "data": {
      "text/plain": [
       "[('214-342-5423', '-', '-')]"
      ]
     },
     "execution_count": 109,
     "metadata": {},
     "output_type": "execute_result"
    }
   ],
   "source": [
    "dp_good_1 = '214-342-5423'\n",
    "compiled_re.findall(dp_good_1)"
   ]
  },
  {
   "cell_type": "code",
   "execution_count": 110,
   "metadata": {},
   "outputs": [
    {
     "data": {
      "text/plain": [
       "[('214.342.5423', '.', '.')]"
      ]
     },
     "execution_count": 110,
     "metadata": {},
     "output_type": "execute_result"
    }
   ],
   "source": [
    "dp_good_1 = '214.342.5423'\n",
    "compiled_re.findall(dp_good_1)"
   ]
  },
  {
   "cell_type": "code",
   "execution_count": 111,
   "metadata": {},
   "outputs": [
    {
     "data": {
      "text/plain": [
       "[]"
      ]
     },
     "execution_count": 111,
     "metadata": {},
     "output_type": "execute_result"
    }
   ],
   "source": [
    "dp_bad_1 = '214.342'\n",
    "compiled_re.findall(dp_bad_1)"
   ]
  },
  {
   "cell_type": "code",
   "execution_count": 112,
   "metadata": {},
   "outputs": [
    {
     "data": {
      "text/plain": [
       "[]"
      ]
     },
     "execution_count": 112,
     "metadata": {},
     "output_type": "execute_result"
    }
   ],
   "source": [
    "dp_bad_2 = '214.3432'\n",
    "compiled_re.findall(dp_bad_2)"
   ]
  },
  {
   "cell_type": "code",
   "execution_count": 113,
   "metadata": {},
   "outputs": [
    {
     "data": {
      "text/plain": [
       "[]"
      ]
     },
     "execution_count": 113,
     "metadata": {},
     "output_type": "execute_result"
    }
   ],
   "source": [
    "dp_bad_3 = '214.343.dad2'\n",
    "compiled_re.findall(dp_bad_3)"
   ]
  },
  {
   "cell_type": "code",
   "execution_count": 118,
   "metadata": {},
   "outputs": [],
   "source": [
    "regex_pieces = r'\\d{1}\\.\\d{2}'\n",
    "compiled_re = re.compile(regex_pieces)"
   ]
  },
  {
   "cell_type": "code",
   "execution_count": 119,
   "metadata": {},
   "outputs": [
    {
     "data": {
      "text/plain": [
       "['4.42']"
      ]
     },
     "execution_count": 119,
     "metadata": {},
     "output_type": "execute_result"
    }
   ],
   "source": [
    "p_good_1 = '4.42'\n",
    "compiled_re.findall(p_good_1)"
   ]
  },
  {
   "cell_type": "code",
   "execution_count": 121,
   "metadata": {},
   "outputs": [
    {
     "data": {
      "text/plain": [
       "[]"
      ]
     },
     "execution_count": 121,
     "metadata": {},
     "output_type": "execute_result"
    }
   ],
   "source": [
    "p_bad_1 = '41.42'\n",
    "compiled_re.findall(p_bad_1)"
   ]
  },
  {
   "cell_type": "code",
   "execution_count": 122,
   "metadata": {},
   "outputs": [
    {
     "data": {
      "text/plain": [
       "[]"
      ]
     },
     "execution_count": 122,
     "metadata": {},
     "output_type": "execute_result"
    }
   ],
   "source": [
    "p_bad_2 = '1.424'\n",
    "compiled_re.findall(p_bad_2)"
   ]
  },
  {
   "cell_type": "code",
   "execution_count": null,
   "metadata": {},
   "outputs": [],
   "source": [
    "def get_load_rate_confirmation(origtmp):\n",
    "    '''\n",
    "    Derive Load Rate\n",
    "    '''"
   ]
  }
 ],
 "metadata": {
  "kernelspec": {
   "display_name": "Python 3",
   "language": "python",
   "name": "python3"
  },
  "language_info": {
   "codemirror_mode": {
    "name": "ipython",
    "version": 3
   },
   "file_extension": ".py",
   "mimetype": "text/x-python",
   "name": "python",
   "nbconvert_exporter": "python",
   "pygments_lexer": "ipython3",
   "version": "3.8.5"
  }
 },
 "nbformat": 4,
 "nbformat_minor": 4
}
